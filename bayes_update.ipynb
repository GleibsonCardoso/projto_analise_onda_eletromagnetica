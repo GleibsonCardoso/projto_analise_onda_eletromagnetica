{
  "cells": [
    {
      "cell_type": "code",
      "execution_count": 1,
      "metadata": {
        "collapsed": false
      },
      "outputs": [],
      "source": [
        "%matplotlib inline"
      ]
    },
    {
      "cell_type": "markdown",
      "metadata": {},
      "source": [
        "\n",
        "# The Bayes update\n",
        "\n",
        "This animation displays the posterior estimate updates as it is refitted when\n",
        "new data arrives.\n",
        "The vertical line represents the theoretical value to which the plotted\n",
        "distribution should converge.\n"
      ]
    },
    {
      "cell_type": "code",
      "execution_count": 2,
      "metadata": {
        "collapsed": false
      },
      "outputs": [
        {
          "data": {
            "image/png": "[encoded data removed]",
            "text/plain": [
              "<Figure size 432x288 with 1 Axes>"
            ]
          },
          "metadata": {
            "needs_background": "light"
          },
          "output_type": "display_data"
        }
      ],
      "source": [
        "import math\n",
        "\n",
        "import numpy as np\n",
        "import matplotlib.pyplot as plt\n",
        "from matplotlib.animation import FuncAnimation\n",
        "\n",
        "\n",
        "def beta_pdf(x, a, b):\n",
        "    return (x**(a-1) * (1-x)**(b-1) * math.gamma(a + b)\n",
        "            / (math.gamma(a) * math.gamma(b)))\n",
        "\n",
        "\n",
        "class UpdateDist:\n",
        "    def __init__(self, ax, prob=0.5):\n",
        "        self.success = 0\n",
        "        self.prob = prob\n",
        "        self.line, = ax.plot([], [], 'k-')\n",
        "        self.x = np.linspace(0, 1, 200)\n",
        "        self.ax = ax\n",
        "\n",
        "        # Set up plot parameters\n",
        "        self.ax.set_xlim(0, 1)\n",
        "        self.ax.set_ylim(0, 10)\n",
        "        self.ax.grid(True)\n",
        "\n",
        "        # This vertical line represents the theoretical value, to\n",
        "        # which the plotted distribution should converge.\n",
        "        self.ax.axvline(prob, linestyle='--', color='black')\n",
        "\n",
        "    def __call__(self, i):\n",
        "        # This way the plot can continuously run and we just keep\n",
        "        # watching new realizations of the process\n",
        "        if i == 0:\n",
        "            self.success = 0\n",
        "            self.line.set_data([], [])\n",
        "            return self.line,\n",
        "\n",
        "        # Choose success based on exceed a threshold with a uniform pick\n",
        "        if np.random.rand(1,) < self.prob:\n",
        "            self.success += 1\n",
        "        y = beta_pdf(self.x, self.success + 1, (i - self.success) + 1)\n",
        "        self.line.set_data(self.x, y)\n",
        "        return self.line,\n",
        "\n",
        "# Fixing random state for reproducibility\n",
        "np.random.seed(19680801)\n",
        "\n",
        "\n",
        "fig, ax = plt.subplots()\n",
        "ud = UpdateDist(ax, prob=0.7)\n",
        "anim = FuncAnimation(fig, ud, frames=100, interval=100, blit=True)\n",
        "plt.show()"
      ]
    }
  ],
  "metadata": {
    "kernelspec": {
      "display_name": "Python 3.10.5 64-bit",
      "language": "python",
      "name": "python3"
    },
    "language_info": {
      "codemirror_mode": {
        "name": "ipython",
        "version": 3
      },
      "file_extension": ".py",
      "mimetype": "text/x-python",
      "name": "python",
      "nbconvert_exporter": "python",
      "pygments_lexer": "ipython3",
      "version": "3.10.5"
    },
    "vscode": {
      "interpreter": {
        "hash": "37b7945145f4cd9c08da6f07b175cb531f5ebb9e8035c1fea7bd716469357ee3"
      }
    }
  },
  "nbformat": 4,
  "nbformat_minor": 0
}
